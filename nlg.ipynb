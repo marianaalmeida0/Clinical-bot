{
 "cells": [
  {
   "cell_type": "code",
   "execution_count": 1,
   "id": "7c7aa89c-9ac7-4afe-b616-c1dd02e46f26",
   "metadata": {
    "scrolled": true
   },
   "outputs": [],
   "source": [
    "from transformers import AutoModelForSeq2SeqLM, AutoTokenizer\n",
    "import datetime\n",
    "\n",
    "# Load model and tokenizer\n",
    "model_name = \"google/flan-t5-large\"  \n",
    "model = AutoModelForSeq2SeqLM.from_pretrained(model_name)\n",
    "tokenizer = AutoTokenizer.from_pretrained(model_name)\n",
    "\n",
    "def test_nlg(prompt, sql_result):\n",
    "    \"\"\"\n",
    "    Test the natural language generation model with a prompt and SQL result.\n",
    "    :param prompt: Original user question.\n",
    "    :param sql_result: SQL query result.\n",
    "    :return: Generated natural language response.\n",
    "    \"\"\"\n",
    "    # Format the SQL result into a readable string\n",
    "    formatted_result = \", \".join([str(row[0]) for row in sql_result])\n",
    "    \n",
    "    # Create a detailed prompt for the model\n",
    "    detailed_prompt = (\n",
    "        f\"You are a medical assistant specializing in converting technical SQL data into natural language. \"\n",
    "        f\"Below is a question asked by a doctor and the result of a SQL query.\\n\\n\"\n",
    "        f\"Question: {prompt}\\n\"\n",
    "        f\"SQL query result: {formatted_result}\\n\\n\"\n",
    "        f\"Provide a clear and complete response in natural language, as if you were explaining it to the doctor.\"\n",
    "    )\n",
    "\n",
    "    # Generate the response\n",
    "    inputs = tokenizer(detailed_prompt, return_tensors=\"pt\")\n",
    "    outputs = model.generate(inputs[\"input_ids\"], max_length=100, num_return_sequences=1)\n",
    "    response = tokenizer.decode(outputs[0], skip_special_tokens=True)\n",
    "    return response\n",
    "\n"
   ]
  },
  {
   "cell_type": "code",
   "execution_count": 2,
   "id": "ee887f77-29af-4c41-99c2-384d1404a595",
   "metadata": {},
   "outputs": [
    {
     "name": "stdout",
     "output_type": "stream",
     "text": [
      "Generated response: The date of the last blood test for patient ID 2 is 2024-10-11.\n"
     ]
    }
   ],
   "source": [
    "# Example data\n",
    "sql_result = [(datetime.date(2024, 10, 11),)]  # SQL query result\n",
    "question = \"What is the date of the last blood test for patient with ID 2?\"  # Original question\n",
    "\n",
    "# Test call\n",
    "response = test_nlg(question, sql_result)\n",
    "print(\"Generated response:\", response)\n"
   ]
  },
  {
   "cell_type": "code",
   "execution_count": 5,
   "id": "9026353d-fa72-4284-b4e2-468c8ced1588",
   "metadata": {},
   "outputs": [
    {
     "name": "stderr",
     "output_type": "stream",
     "text": [
      "/opt/conda/lib/python3.10/site-packages/transformers/models/auto/auto_factory.py:471: FutureWarning: The `use_auth_token` argument is deprecated and will be removed in v5 of Transformers. Please use `token` instead.\n",
      "  warnings.warn(\n"
     ]
    },
    {
     "data": {
      "application/vnd.jupyter.widget-view+json": {
       "model_id": "8ac640dd10504fce97fbb09152daa6f5",
       "version_major": 2,
       "version_minor": 0
      },
      "text/plain": [
       "config.json:   0%|          | 0.00/720 [00:00<?, ?B/s]"
      ]
     },
     "metadata": {},
     "output_type": "display_data"
    },
    {
     "data": {
      "application/vnd.jupyter.widget-view+json": {
       "model_id": "48e2a2a627a94cfc98dd99b3f35e1139",
       "version_major": 2,
       "version_minor": 0
      },
      "text/plain": [
       "model.safetensors.index.json:   0%|          | 0.00/92.7k [00:00<?, ?B/s]"
      ]
     },
     "metadata": {},
     "output_type": "display_data"
    },
    {
     "data": {
      "application/vnd.jupyter.widget-view+json": {
       "model_id": "0bf93bb7175b483db3de2d18489d73a6",
       "version_major": 2,
       "version_minor": 0
      },
      "text/plain": [
       "Downloading shards:   0%|          | 0/19 [00:00<?, ?it/s]"
      ]
     },
     "metadata": {},
     "output_type": "display_data"
    },
    {
     "data": {
      "application/vnd.jupyter.widget-view+json": {
       "model_id": "38ba413329a146ff9ffa43e599acb401",
       "version_major": 2,
       "version_minor": 0
      },
      "text/plain": [
       "model-00001-of-00019.safetensors:   0%|          | 0.00/4.89G [00:00<?, ?B/s]"
      ]
     },
     "metadata": {},
     "output_type": "display_data"
    },
    {
     "data": {
      "application/vnd.jupyter.widget-view+json": {
       "model_id": "01b1567d6947425d8446d41055278ca3",
       "version_major": 2,
       "version_minor": 0
      },
      "text/plain": [
       "model-00002-of-00019.safetensors:   0%|          | 0.00/4.98G [00:00<?, ?B/s]"
      ]
     },
     "metadata": {},
     "output_type": "display_data"
    },
    {
     "data": {
      "application/vnd.jupyter.widget-view+json": {
       "model_id": "98a9724143484ade85e2f480018e4f1e",
       "version_major": 2,
       "version_minor": 0
      },
      "text/plain": [
       "model-00003-of-00019.safetensors:   0%|          | 0.00/4.98G [00:00<?, ?B/s]"
      ]
     },
     "metadata": {},
     "output_type": "display_data"
    },
    {
     "data": {
      "application/vnd.jupyter.widget-view+json": {
       "model_id": "6029c31b53664c22a6c44c075023cbb9",
       "version_major": 2,
       "version_minor": 0
      },
      "text/plain": [
       "model-00004-of-00019.safetensors:   0%|          | 0.00/4.90G [00:00<?, ?B/s]"
      ]
     },
     "metadata": {},
     "output_type": "display_data"
    },
    {
     "data": {
      "application/vnd.jupyter.widget-view+json": {
       "model_id": "442eaa06ded64c0f947899da7ade9692",
       "version_major": 2,
       "version_minor": 0
      },
      "text/plain": [
       "model-00005-of-00019.safetensors:   0%|          | 0.00/4.98G [00:00<?, ?B/s]"
      ]
     },
     "metadata": {},
     "output_type": "display_data"
    },
    {
     "data": {
      "application/vnd.jupyter.widget-view+json": {
       "model_id": "423e3463ffec4de3b2c40d953b1e76ad",
       "version_major": 2,
       "version_minor": 0
      },
      "text/plain": [
       "model-00006-of-00019.safetensors:   0%|          | 0.00/4.98G [00:00<?, ?B/s]"
      ]
     },
     "metadata": {},
     "output_type": "display_data"
    },
    {
     "data": {
      "application/vnd.jupyter.widget-view+json": {
       "model_id": "0099458f04284e26bcaa4e5a3f6a6ea7",
       "version_major": 2,
       "version_minor": 0
      },
      "text/plain": [
       "model-00007-of-00019.safetensors:   0%|          | 0.00/4.90G [00:00<?, ?B/s]"
      ]
     },
     "metadata": {},
     "output_type": "display_data"
    },
    {
     "data": {
      "application/vnd.jupyter.widget-view+json": {
       "model_id": "96ef84ad33fe4a80ac1b62c341669b4a",
       "version_major": 2,
       "version_minor": 0
      },
      "text/plain": [
       "model-00008-of-00019.safetensors:   0%|          | 0.00/4.98G [00:00<?, ?B/s]"
      ]
     },
     "metadata": {},
     "output_type": "display_data"
    },
    {
     "data": {
      "application/vnd.jupyter.widget-view+json": {
       "model_id": "aaa61e02e2924696abac9a7beac9fdec",
       "version_major": 2,
       "version_minor": 0
      },
      "text/plain": [
       "model-00009-of-00019.safetensors:   0%|          | 0.00/4.98G [00:00<?, ?B/s]"
      ]
     },
     "metadata": {},
     "output_type": "display_data"
    },
    {
     "data": {
      "application/vnd.jupyter.widget-view+json": {
       "model_id": "faefe58ec95d4f44bd3647be8b228d9d",
       "version_major": 2,
       "version_minor": 0
      },
      "text/plain": [
       "model-00010-of-00019.safetensors:   0%|          | 0.00/4.90G [00:00<?, ?B/s]"
      ]
     },
     "metadata": {},
     "output_type": "display_data"
    },
    {
     "name": "stderr",
     "output_type": "stream",
     "text": [
      "IOPub message rate exceeded.\n",
      "The Jupyter server will temporarily stop sending output\n",
      "to the client in order to avoid crashing it.\n",
      "To change this limit, set the config variable\n",
      "`--ServerApp.iopub_msg_rate_limit`.\n",
      "\n",
      "Current values:\n",
      "ServerApp.iopub_msg_rate_limit=1000.0 (msgs/sec)\n",
      "ServerApp.rate_limit_window=3.0 (secs)\n",
      "\n"
     ]
    }
   ],
   "source": [
    "from transformers import AutoTokenizer, AutoModelForCausalLM\n",
    "\n",
    "# Define model and token\n",
    "model_name = \"mistralai/Mixtral-8x7B-v0.1\"\n",
    "\n",
    "\n",
    "# Load tokenizer and model with authentication\n",
    "tokenizer = AutoTokenizer.from_pretrained(model_name, use_auth_token=token)\n",
    "model = AutoModelForCausalLM.from_pretrained(model_name, use_auth_token=token)\n",
    "\n",
    "def test_nlg(prompt, sql_result):\n",
    "    \"\"\"\n",
    "    Test the natural language generation model with a prompt and SQL result.\n",
    "    :param prompt: Original user question.\n",
    "    :param sql_result: SQL query result.\n",
    "    :return: Generated natural language response.\n",
    "    \"\"\"\n",
    "    # Format the SQL result into a readable string\n",
    "    formatted_result = \", \".join([str(row[0]) for row in sql_result])\n",
    "\n",
    "    # Create a detailed prompt for the model\n",
    "    detailed_prompt = (\n",
    "        f\"You are a medical assistant specializing in converting technical SQL data into natural language. \"\n",
    "        f\"Below is a question asked by a doctor and the result of a SQL query.\\n\\n\"\n",
    "        f\"Question: {prompt}\\n\"\n",
    "        f\"SQL query result: {formatted_result}\\n\\n\"\n",
    "        f\"Provide a clear and complete response in natural language, as if you were explaining it to the doctor.\"\n",
    "    )\n",
    "\n",
    "    # Generate the response\n",
    "    inputs = tokenizer(detailed_prompt, return_tensors=\"pt\")\n",
    "    outputs = model.generate(**inputs, max_new_tokens=20)\n",
    "    response = tokenizer.decode(outputs[0], skip_special_tokens=True)\n",
    "    return response\n"
   ]
  },
  {
   "cell_type": "code",
   "execution_count": null,
   "id": "259ec204-b059-4d60-93e4-15675282c9c7",
   "metadata": {},
   "outputs": [
    {
     "name": "stderr",
     "output_type": "stream",
     "text": [
      "Setting `pad_token_id` to `eos_token_id`:None for open-end generation.\n",
      "Starting from v4.46, the `logits` model output will have the same type as the model (except at train time, where it will always be FP32)\n"
     ]
    }
   ],
   "source": [
    "sql_result = [(\"Liver without abnormalities.\",)]  # SQL query result\n",
    "question = \"What is the most recent exam result for patient with ID 1?\"  # Original question\n",
    "\n",
    "# Test call\n",
    "response = test_nlg(question, sql_result)\n",
    "print(\"Generated response:\", response)"
   ]
  },
  {
   "cell_type": "code",
   "execution_count": null,
   "id": "5d872e53-9894-4f90-a8d3-d3d94f6fdc32",
   "metadata": {},
   "outputs": [],
   "source": [
    "sql_result =  [(\"Total cholesterol\", \"200 mg/dL\")]  # SQL query result\n",
    "question = \"I need information about the cholesterol test for patient with ID 1\"  # Original question\n",
    "\n",
    "# Test call\n",
    "response = test_nlg(question, sql_result)\n",
    "print(\"Generated response:\", response)"
   ]
  },
  {
   "cell_type": "code",
   "execution_count": null,
   "id": "b6f8177c-1934-4fb7-a965-a11595877b4e",
   "metadata": {},
   "outputs": [],
   "source": []
  }
 ],
 "metadata": {
  "kernelspec": {
   "display_name": "Python 3 (ipykernel)",
   "language": "python",
   "name": "python3"
  },
  "language_info": {
   "codemirror_mode": {
    "name": "ipython",
    "version": 3
   },
   "file_extension": ".py",
   "mimetype": "text/x-python",
   "name": "python",
   "nbconvert_exporter": "python",
   "pygments_lexer": "ipython3",
   "version": "3.10.12"
  }
 },
 "nbformat": 4,
 "nbformat_minor": 5
}
